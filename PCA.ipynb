{
  "nbformat": 4,
  "nbformat_minor": 0,
  "metadata": {
    "colab": {
      "name": "PCA.ipynb",
      "provenance": []
    },
    "kernelspec": {
      "name": "python3",
      "display_name": "Python 3"
    },
    "language_info": {
      "name": "python"
    }
  },
  "cells": [
    {
      "cell_type": "code",
      "metadata": {
        "id": "FGNk2z8_2fgE"
      },
      "source": [
        "import pandas as pd"
      ],
      "execution_count": 23,
      "outputs": []
    },
    {
      "cell_type": "code",
      "metadata": {
        "id": "6SLdi6qW8sNe"
      },
      "source": [
        "df = pd.read_csv(\"/content/Iris.csv\")"
      ],
      "execution_count": 2,
      "outputs": []
    },
    {
      "cell_type": "code",
      "metadata": {
        "colab": {
          "base_uri": "https://localhost:8080/"
        },
        "id": "SDwwQ-ds8uwr",
        "outputId": "73c94676-5bd2-4598-fa8c-3843ac1c02a3"
      },
      "source": [
        "df.info()"
      ],
      "execution_count": 5,
      "outputs": [
        {
          "output_type": "stream",
          "name": "stdout",
          "text": [
            "<class 'pandas.core.frame.DataFrame'>\n",
            "RangeIndex: 150 entries, 0 to 149\n",
            "Data columns (total 6 columns):\n",
            " #   Column         Non-Null Count  Dtype  \n",
            "---  ------         --------------  -----  \n",
            " 0   Id             150 non-null    int64  \n",
            " 1   SepalLengthCm  150 non-null    float64\n",
            " 2   SepalWidthCm   150 non-null    float64\n",
            " 3   PetalLengthCm  150 non-null    float64\n",
            " 4   PetalWidthCm   150 non-null    float64\n",
            " 5   Species        150 non-null    object \n",
            "dtypes: float64(4), int64(1), object(1)\n",
            "memory usage: 7.2+ KB\n"
          ]
        }
      ]
    },
    {
      "cell_type": "code",
      "metadata": {
        "colab": {
          "base_uri": "https://localhost:8080/",
          "height": 206
        },
        "id": "rnP0ZE-28v-b",
        "outputId": "83ec07d0-a633-4a42-f145-0d4ad01aa637"
      },
      "source": [
        "df.head()"
      ],
      "execution_count": 6,
      "outputs": [
        {
          "output_type": "execute_result",
          "data": {
            "text/html": [
              "<div>\n",
              "<style scoped>\n",
              "    .dataframe tbody tr th:only-of-type {\n",
              "        vertical-align: middle;\n",
              "    }\n",
              "\n",
              "    .dataframe tbody tr th {\n",
              "        vertical-align: top;\n",
              "    }\n",
              "\n",
              "    .dataframe thead th {\n",
              "        text-align: right;\n",
              "    }\n",
              "</style>\n",
              "<table border=\"1\" class=\"dataframe\">\n",
              "  <thead>\n",
              "    <tr style=\"text-align: right;\">\n",
              "      <th></th>\n",
              "      <th>Id</th>\n",
              "      <th>SepalLengthCm</th>\n",
              "      <th>SepalWidthCm</th>\n",
              "      <th>PetalLengthCm</th>\n",
              "      <th>PetalWidthCm</th>\n",
              "      <th>Species</th>\n",
              "    </tr>\n",
              "  </thead>\n",
              "  <tbody>\n",
              "    <tr>\n",
              "      <th>0</th>\n",
              "      <td>1</td>\n",
              "      <td>5.1</td>\n",
              "      <td>3.5</td>\n",
              "      <td>1.4</td>\n",
              "      <td>0.2</td>\n",
              "      <td>Iris-setosa</td>\n",
              "    </tr>\n",
              "    <tr>\n",
              "      <th>1</th>\n",
              "      <td>2</td>\n",
              "      <td>4.9</td>\n",
              "      <td>3.0</td>\n",
              "      <td>1.4</td>\n",
              "      <td>0.2</td>\n",
              "      <td>Iris-setosa</td>\n",
              "    </tr>\n",
              "    <tr>\n",
              "      <th>2</th>\n",
              "      <td>3</td>\n",
              "      <td>4.7</td>\n",
              "      <td>3.2</td>\n",
              "      <td>1.3</td>\n",
              "      <td>0.2</td>\n",
              "      <td>Iris-setosa</td>\n",
              "    </tr>\n",
              "    <tr>\n",
              "      <th>3</th>\n",
              "      <td>4</td>\n",
              "      <td>4.6</td>\n",
              "      <td>3.1</td>\n",
              "      <td>1.5</td>\n",
              "      <td>0.2</td>\n",
              "      <td>Iris-setosa</td>\n",
              "    </tr>\n",
              "    <tr>\n",
              "      <th>4</th>\n",
              "      <td>5</td>\n",
              "      <td>5.0</td>\n",
              "      <td>3.6</td>\n",
              "      <td>1.4</td>\n",
              "      <td>0.2</td>\n",
              "      <td>Iris-setosa</td>\n",
              "    </tr>\n",
              "  </tbody>\n",
              "</table>\n",
              "</div>"
            ],
            "text/plain": [
              "   Id  SepalLengthCm  SepalWidthCm  PetalLengthCm  PetalWidthCm      Species\n",
              "0   1            5.1           3.5            1.4           0.2  Iris-setosa\n",
              "1   2            4.9           3.0            1.4           0.2  Iris-setosa\n",
              "2   3            4.7           3.2            1.3           0.2  Iris-setosa\n",
              "3   4            4.6           3.1            1.5           0.2  Iris-setosa\n",
              "4   5            5.0           3.6            1.4           0.2  Iris-setosa"
            ]
          },
          "metadata": {},
          "execution_count": 6
        }
      ]
    },
    {
      "cell_type": "code",
      "metadata": {
        "id": "Xi2k-3ZC84ho"
      },
      "source": [
        "x = df[[\"SepalLengthCm\",\"SepalWidthCm\",\"PetalLengthCm\",\"PetalWidthCm\"]]"
      ],
      "execution_count": 7,
      "outputs": []
    },
    {
      "cell_type": "code",
      "metadata": {
        "id": "qJPjv59E9Nef"
      },
      "source": [
        "y = df[[\"Species\"]]"
      ],
      "execution_count": 8,
      "outputs": []
    },
    {
      "cell_type": "code",
      "metadata": {
        "colab": {
          "base_uri": "https://localhost:8080/"
        },
        "id": "B4fQHoxR9Rl_",
        "outputId": "29c7d8ee-3b2b-459a-8098-4f35a0d4acd8"
      },
      "source": [
        "print(x)\n",
        "print(y)"
      ],
      "execution_count": 9,
      "outputs": [
        {
          "output_type": "stream",
          "name": "stdout",
          "text": [
            "     SepalLengthCm  SepalWidthCm  PetalLengthCm  PetalWidthCm\n",
            "0              5.1           3.5            1.4           0.2\n",
            "1              4.9           3.0            1.4           0.2\n",
            "2              4.7           3.2            1.3           0.2\n",
            "3              4.6           3.1            1.5           0.2\n",
            "4              5.0           3.6            1.4           0.2\n",
            "..             ...           ...            ...           ...\n",
            "145            6.7           3.0            5.2           2.3\n",
            "146            6.3           2.5            5.0           1.9\n",
            "147            6.5           3.0            5.2           2.0\n",
            "148            6.2           3.4            5.4           2.3\n",
            "149            5.9           3.0            5.1           1.8\n",
            "\n",
            "[150 rows x 4 columns]\n",
            "            Species\n",
            "0       Iris-setosa\n",
            "1       Iris-setosa\n",
            "2       Iris-setosa\n",
            "3       Iris-setosa\n",
            "4       Iris-setosa\n",
            "..              ...\n",
            "145  Iris-virginica\n",
            "146  Iris-virginica\n",
            "147  Iris-virginica\n",
            "148  Iris-virginica\n",
            "149  Iris-virginica\n",
            "\n",
            "[150 rows x 1 columns]\n"
          ]
        }
      ]
    },
    {
      "cell_type": "code",
      "metadata": {
        "colab": {
          "base_uri": "https://localhost:8080/"
        },
        "id": "G4ivIcKc9Uq6",
        "outputId": "7dc2f0c2-950d-4561-f9d5-c01b287e089b"
      },
      "source": [
        "# another way to load the dataset from the sklearn library \n",
        "from sklearn.datasets import load_iris\n",
        "iris = load_iris()\n",
        "type(iris)\n",
        "iris"
      ],
      "execution_count": 28,
      "outputs": [
        {
          "output_type": "execute_result",
          "data": {
            "text/plain": [
              "{'DESCR': '.. _iris_dataset:\\n\\nIris plants dataset\\n--------------------\\n\\n**Data Set Characteristics:**\\n\\n    :Number of Instances: 150 (50 in each of three classes)\\n    :Number of Attributes: 4 numeric, predictive attributes and the class\\n    :Attribute Information:\\n        - sepal length in cm\\n        - sepal width in cm\\n        - petal length in cm\\n        - petal width in cm\\n        - class:\\n                - Iris-Setosa\\n                - Iris-Versicolour\\n                - Iris-Virginica\\n                \\n    :Summary Statistics:\\n\\n    ============== ==== ==== ======= ===== ====================\\n                    Min  Max   Mean    SD   Class Correlation\\n    ============== ==== ==== ======= ===== ====================\\n    sepal length:   4.3  7.9   5.84   0.83    0.7826\\n    sepal width:    2.0  4.4   3.05   0.43   -0.4194\\n    petal length:   1.0  6.9   3.76   1.76    0.9490  (high!)\\n    petal width:    0.1  2.5   1.20   0.76    0.9565  (high!)\\n    ============== ==== ==== ======= ===== ====================\\n\\n    :Missing Attribute Values: None\\n    :Class Distribution: 33.3% for each of 3 classes.\\n    :Creator: R.A. Fisher\\n    :Donor: Michael Marshall (MARSHALL%PLU@io.arc.nasa.gov)\\n    :Date: July, 1988\\n\\nThe famous Iris database, first used by Sir R.A. Fisher. The dataset is taken\\nfrom Fisher\\'s paper. Note that it\\'s the same as in R, but not as in the UCI\\nMachine Learning Repository, which has two wrong data points.\\n\\nThis is perhaps the best known database to be found in the\\npattern recognition literature.  Fisher\\'s paper is a classic in the field and\\nis referenced frequently to this day.  (See Duda & Hart, for example.)  The\\ndata set contains 3 classes of 50 instances each, where each class refers to a\\ntype of iris plant.  One class is linearly separable from the other 2; the\\nlatter are NOT linearly separable from each other.\\n\\n.. topic:: References\\n\\n   - Fisher, R.A. \"The use of multiple measurements in taxonomic problems\"\\n     Annual Eugenics, 7, Part II, 179-188 (1936); also in \"Contributions to\\n     Mathematical Statistics\" (John Wiley, NY, 1950).\\n   - Duda, R.O., & Hart, P.E. (1973) Pattern Classification and Scene Analysis.\\n     (Q327.D83) John Wiley & Sons.  ISBN 0-471-22361-1.  See page 218.\\n   - Dasarathy, B.V. (1980) \"Nosing Around the Neighborhood: A New System\\n     Structure and Classification Rule for Recognition in Partially Exposed\\n     Environments\".  IEEE Transactions on Pattern Analysis and Machine\\n     Intelligence, Vol. PAMI-2, No. 1, 67-71.\\n   - Gates, G.W. (1972) \"The Reduced Nearest Neighbor Rule\".  IEEE Transactions\\n     on Information Theory, May 1972, 431-433.\\n   - See also: 1988 MLC Proceedings, 54-64.  Cheeseman et al\"s AUTOCLASS II\\n     conceptual clustering system finds 3 classes in the data.\\n   - Many, many more ...',\n",
              " 'data': array([[5.1, 3.5, 1.4, 0.2],\n",
              "        [4.9, 3. , 1.4, 0.2],\n",
              "        [4.7, 3.2, 1.3, 0.2],\n",
              "        [4.6, 3.1, 1.5, 0.2],\n",
              "        [5. , 3.6, 1.4, 0.2],\n",
              "        [5.4, 3.9, 1.7, 0.4],\n",
              "        [4.6, 3.4, 1.4, 0.3],\n",
              "        [5. , 3.4, 1.5, 0.2],\n",
              "        [4.4, 2.9, 1.4, 0.2],\n",
              "        [4.9, 3.1, 1.5, 0.1],\n",
              "        [5.4, 3.7, 1.5, 0.2],\n",
              "        [4.8, 3.4, 1.6, 0.2],\n",
              "        [4.8, 3. , 1.4, 0.1],\n",
              "        [4.3, 3. , 1.1, 0.1],\n",
              "        [5.8, 4. , 1.2, 0.2],\n",
              "        [5.7, 4.4, 1.5, 0.4],\n",
              "        [5.4, 3.9, 1.3, 0.4],\n",
              "        [5.1, 3.5, 1.4, 0.3],\n",
              "        [5.7, 3.8, 1.7, 0.3],\n",
              "        [5.1, 3.8, 1.5, 0.3],\n",
              "        [5.4, 3.4, 1.7, 0.2],\n",
              "        [5.1, 3.7, 1.5, 0.4],\n",
              "        [4.6, 3.6, 1. , 0.2],\n",
              "        [5.1, 3.3, 1.7, 0.5],\n",
              "        [4.8, 3.4, 1.9, 0.2],\n",
              "        [5. , 3. , 1.6, 0.2],\n",
              "        [5. , 3.4, 1.6, 0.4],\n",
              "        [5.2, 3.5, 1.5, 0.2],\n",
              "        [5.2, 3.4, 1.4, 0.2],\n",
              "        [4.7, 3.2, 1.6, 0.2],\n",
              "        [4.8, 3.1, 1.6, 0.2],\n",
              "        [5.4, 3.4, 1.5, 0.4],\n",
              "        [5.2, 4.1, 1.5, 0.1],\n",
              "        [5.5, 4.2, 1.4, 0.2],\n",
              "        [4.9, 3.1, 1.5, 0.2],\n",
              "        [5. , 3.2, 1.2, 0.2],\n",
              "        [5.5, 3.5, 1.3, 0.2],\n",
              "        [4.9, 3.6, 1.4, 0.1],\n",
              "        [4.4, 3. , 1.3, 0.2],\n",
              "        [5.1, 3.4, 1.5, 0.2],\n",
              "        [5. , 3.5, 1.3, 0.3],\n",
              "        [4.5, 2.3, 1.3, 0.3],\n",
              "        [4.4, 3.2, 1.3, 0.2],\n",
              "        [5. , 3.5, 1.6, 0.6],\n",
              "        [5.1, 3.8, 1.9, 0.4],\n",
              "        [4.8, 3. , 1.4, 0.3],\n",
              "        [5.1, 3.8, 1.6, 0.2],\n",
              "        [4.6, 3.2, 1.4, 0.2],\n",
              "        [5.3, 3.7, 1.5, 0.2],\n",
              "        [5. , 3.3, 1.4, 0.2],\n",
              "        [7. , 3.2, 4.7, 1.4],\n",
              "        [6.4, 3.2, 4.5, 1.5],\n",
              "        [6.9, 3.1, 4.9, 1.5],\n",
              "        [5.5, 2.3, 4. , 1.3],\n",
              "        [6.5, 2.8, 4.6, 1.5],\n",
              "        [5.7, 2.8, 4.5, 1.3],\n",
              "        [6.3, 3.3, 4.7, 1.6],\n",
              "        [4.9, 2.4, 3.3, 1. ],\n",
              "        [6.6, 2.9, 4.6, 1.3],\n",
              "        [5.2, 2.7, 3.9, 1.4],\n",
              "        [5. , 2. , 3.5, 1. ],\n",
              "        [5.9, 3. , 4.2, 1.5],\n",
              "        [6. , 2.2, 4. , 1. ],\n",
              "        [6.1, 2.9, 4.7, 1.4],\n",
              "        [5.6, 2.9, 3.6, 1.3],\n",
              "        [6.7, 3.1, 4.4, 1.4],\n",
              "        [5.6, 3. , 4.5, 1.5],\n",
              "        [5.8, 2.7, 4.1, 1. ],\n",
              "        [6.2, 2.2, 4.5, 1.5],\n",
              "        [5.6, 2.5, 3.9, 1.1],\n",
              "        [5.9, 3.2, 4.8, 1.8],\n",
              "        [6.1, 2.8, 4. , 1.3],\n",
              "        [6.3, 2.5, 4.9, 1.5],\n",
              "        [6.1, 2.8, 4.7, 1.2],\n",
              "        [6.4, 2.9, 4.3, 1.3],\n",
              "        [6.6, 3. , 4.4, 1.4],\n",
              "        [6.8, 2.8, 4.8, 1.4],\n",
              "        [6.7, 3. , 5. , 1.7],\n",
              "        [6. , 2.9, 4.5, 1.5],\n",
              "        [5.7, 2.6, 3.5, 1. ],\n",
              "        [5.5, 2.4, 3.8, 1.1],\n",
              "        [5.5, 2.4, 3.7, 1. ],\n",
              "        [5.8, 2.7, 3.9, 1.2],\n",
              "        [6. , 2.7, 5.1, 1.6],\n",
              "        [5.4, 3. , 4.5, 1.5],\n",
              "        [6. , 3.4, 4.5, 1.6],\n",
              "        [6.7, 3.1, 4.7, 1.5],\n",
              "        [6.3, 2.3, 4.4, 1.3],\n",
              "        [5.6, 3. , 4.1, 1.3],\n",
              "        [5.5, 2.5, 4. , 1.3],\n",
              "        [5.5, 2.6, 4.4, 1.2],\n",
              "        [6.1, 3. , 4.6, 1.4],\n",
              "        [5.8, 2.6, 4. , 1.2],\n",
              "        [5. , 2.3, 3.3, 1. ],\n",
              "        [5.6, 2.7, 4.2, 1.3],\n",
              "        [5.7, 3. , 4.2, 1.2],\n",
              "        [5.7, 2.9, 4.2, 1.3],\n",
              "        [6.2, 2.9, 4.3, 1.3],\n",
              "        [5.1, 2.5, 3. , 1.1],\n",
              "        [5.7, 2.8, 4.1, 1.3],\n",
              "        [6.3, 3.3, 6. , 2.5],\n",
              "        [5.8, 2.7, 5.1, 1.9],\n",
              "        [7.1, 3. , 5.9, 2.1],\n",
              "        [6.3, 2.9, 5.6, 1.8],\n",
              "        [6.5, 3. , 5.8, 2.2],\n",
              "        [7.6, 3. , 6.6, 2.1],\n",
              "        [4.9, 2.5, 4.5, 1.7],\n",
              "        [7.3, 2.9, 6.3, 1.8],\n",
              "        [6.7, 2.5, 5.8, 1.8],\n",
              "        [7.2, 3.6, 6.1, 2.5],\n",
              "        [6.5, 3.2, 5.1, 2. ],\n",
              "        [6.4, 2.7, 5.3, 1.9],\n",
              "        [6.8, 3. , 5.5, 2.1],\n",
              "        [5.7, 2.5, 5. , 2. ],\n",
              "        [5.8, 2.8, 5.1, 2.4],\n",
              "        [6.4, 3.2, 5.3, 2.3],\n",
              "        [6.5, 3. , 5.5, 1.8],\n",
              "        [7.7, 3.8, 6.7, 2.2],\n",
              "        [7.7, 2.6, 6.9, 2.3],\n",
              "        [6. , 2.2, 5. , 1.5],\n",
              "        [6.9, 3.2, 5.7, 2.3],\n",
              "        [5.6, 2.8, 4.9, 2. ],\n",
              "        [7.7, 2.8, 6.7, 2. ],\n",
              "        [6.3, 2.7, 4.9, 1.8],\n",
              "        [6.7, 3.3, 5.7, 2.1],\n",
              "        [7.2, 3.2, 6. , 1.8],\n",
              "        [6.2, 2.8, 4.8, 1.8],\n",
              "        [6.1, 3. , 4.9, 1.8],\n",
              "        [6.4, 2.8, 5.6, 2.1],\n",
              "        [7.2, 3. , 5.8, 1.6],\n",
              "        [7.4, 2.8, 6.1, 1.9],\n",
              "        [7.9, 3.8, 6.4, 2. ],\n",
              "        [6.4, 2.8, 5.6, 2.2],\n",
              "        [6.3, 2.8, 5.1, 1.5],\n",
              "        [6.1, 2.6, 5.6, 1.4],\n",
              "        [7.7, 3. , 6.1, 2.3],\n",
              "        [6.3, 3.4, 5.6, 2.4],\n",
              "        [6.4, 3.1, 5.5, 1.8],\n",
              "        [6. , 3. , 4.8, 1.8],\n",
              "        [6.9, 3.1, 5.4, 2.1],\n",
              "        [6.7, 3.1, 5.6, 2.4],\n",
              "        [6.9, 3.1, 5.1, 2.3],\n",
              "        [5.8, 2.7, 5.1, 1.9],\n",
              "        [6.8, 3.2, 5.9, 2.3],\n",
              "        [6.7, 3.3, 5.7, 2.5],\n",
              "        [6.7, 3. , 5.2, 2.3],\n",
              "        [6.3, 2.5, 5. , 1.9],\n",
              "        [6.5, 3. , 5.2, 2. ],\n",
              "        [6.2, 3.4, 5.4, 2.3],\n",
              "        [5.9, 3. , 5.1, 1.8]]),\n",
              " 'feature_names': ['sepal length (cm)',\n",
              "  'sepal width (cm)',\n",
              "  'petal length (cm)',\n",
              "  'petal width (cm)'],\n",
              " 'filename': '/usr/local/lib/python3.7/dist-packages/sklearn/datasets/data/iris.csv',\n",
              " 'target': array([0, 0, 0, 0, 0, 0, 0, 0, 0, 0, 0, 0, 0, 0, 0, 0, 0, 0, 0, 0, 0, 0,\n",
              "        0, 0, 0, 0, 0, 0, 0, 0, 0, 0, 0, 0, 0, 0, 0, 0, 0, 0, 0, 0, 0, 0,\n",
              "        0, 0, 0, 0, 0, 0, 1, 1, 1, 1, 1, 1, 1, 1, 1, 1, 1, 1, 1, 1, 1, 1,\n",
              "        1, 1, 1, 1, 1, 1, 1, 1, 1, 1, 1, 1, 1, 1, 1, 1, 1, 1, 1, 1, 1, 1,\n",
              "        1, 1, 1, 1, 1, 1, 1, 1, 1, 1, 1, 1, 2, 2, 2, 2, 2, 2, 2, 2, 2, 2,\n",
              "        2, 2, 2, 2, 2, 2, 2, 2, 2, 2, 2, 2, 2, 2, 2, 2, 2, 2, 2, 2, 2, 2,\n",
              "        2, 2, 2, 2, 2, 2, 2, 2, 2, 2, 2, 2, 2, 2, 2, 2, 2, 2]),\n",
              " 'target_names': array(['setosa', 'versicolor', 'virginica'], dtype='<U10')}"
            ]
          },
          "metadata": {},
          "execution_count": 28
        }
      ]
    },
    {
      "cell_type": "code",
      "metadata": {
        "colab": {
          "base_uri": "https://localhost:8080/"
        },
        "id": "lkQOTbc19lpO",
        "outputId": "0d27ab73-7a4b-44b4-a7d5-083c49e2ecf6"
      },
      "source": [
        "df = pd.DataFrame(data = iris.data , columns=['SepalLengthCm','SepalWidthCm','PetalLengthCm','PetalWidthCm'])\n",
        "df['species'] = iris.target\n",
        "print(df)\n",
        "x = df[['SepalLengthCm','SepalWidthCm','PetalLengthCm','PetalWidthCm']]\n",
        "y = df[[\"species\"]]\n",
        "print(x)\n",
        "print(y)"
      ],
      "execution_count": 32,
      "outputs": [
        {
          "output_type": "stream",
          "name": "stdout",
          "text": [
            "     SepalLengthCm  SepalWidthCm  PetalLengthCm  PetalWidthCm  species\n",
            "0              5.1           3.5            1.4           0.2        0\n",
            "1              4.9           3.0            1.4           0.2        0\n",
            "2              4.7           3.2            1.3           0.2        0\n",
            "3              4.6           3.1            1.5           0.2        0\n",
            "4              5.0           3.6            1.4           0.2        0\n",
            "..             ...           ...            ...           ...      ...\n",
            "145            6.7           3.0            5.2           2.3        2\n",
            "146            6.3           2.5            5.0           1.9        2\n",
            "147            6.5           3.0            5.2           2.0        2\n",
            "148            6.2           3.4            5.4           2.3        2\n",
            "149            5.9           3.0            5.1           1.8        2\n",
            "\n",
            "[150 rows x 5 columns]\n",
            "     SepalLengthCm  SepalWidthCm  PetalLengthCm  PetalWidthCm\n",
            "0              5.1           3.5            1.4           0.2\n",
            "1              4.9           3.0            1.4           0.2\n",
            "2              4.7           3.2            1.3           0.2\n",
            "3              4.6           3.1            1.5           0.2\n",
            "4              5.0           3.6            1.4           0.2\n",
            "..             ...           ...            ...           ...\n",
            "145            6.7           3.0            5.2           2.3\n",
            "146            6.3           2.5            5.0           1.9\n",
            "147            6.5           3.0            5.2           2.0\n",
            "148            6.2           3.4            5.4           2.3\n",
            "149            5.9           3.0            5.1           1.8\n",
            "\n",
            "[150 rows x 4 columns]\n",
            "     species\n",
            "0          0\n",
            "1          0\n",
            "2          0\n",
            "3          0\n",
            "4          0\n",
            "..       ...\n",
            "145        2\n",
            "146        2\n",
            "147        2\n",
            "148        2\n",
            "149        2\n",
            "\n",
            "[150 rows x 1 columns]\n"
          ]
        }
      ]
    },
    {
      "cell_type": "code",
      "metadata": {
        "id": "3WEzJzPW9rRB"
      },
      "source": [
        "# check for any missing values\n",
        "import missingno as ms"
      ],
      "execution_count": 33,
      "outputs": []
    },
    {
      "cell_type": "code",
      "metadata": {
        "colab": {
          "base_uri": "https://localhost:8080/",
          "height": 738
        },
        "id": "iLZScWMs-kSh",
        "outputId": "7c5d1f61-bdfb-4c97-81c0-15d801a0d635"
      },
      "source": [
        "ms.bar(df)"
      ],
      "execution_count": 34,
      "outputs": [
        {
          "output_type": "execute_result",
          "data": {
            "text/plain": [
              "<matplotlib.axes._subplots.AxesSubplot at 0x7fc42b8c02d0>"
            ]
          },
          "metadata": {},
          "execution_count": 34
        },
        {
          "output_type": "display_data",
          "data": {
            "image/png": "[encoded data removed]",
            "text/plain": [
              "<Figure size 1800x720 with 3 Axes>"
            ]
          },
          "metadata": {
            "needs_background": "light"
          }
        }
      ]
    },
    {
      "cell_type": "code",
      "metadata": {
        "colab": {
          "base_uri": "https://localhost:8080/",
          "height": 296
        },
        "id": "wZxSc1XS-oCr",
        "outputId": "cef4ea0b-7962-4b9e-e257-15afd3bba62d"
      },
      "source": [
        "# check if the dataset is balanced or not\n",
        "import seaborn as sns \n",
        "sns.countplot(y = iris.target, data = df)"
      ],
      "execution_count": 36,
      "outputs": [
        {
          "output_type": "execute_result",
          "data": {
            "text/plain": [
              "<matplotlib.axes._subplots.AxesSubplot at 0x7fc42b76c410>"
            ]
          },
          "metadata": {},
          "execution_count": 36
        },
        {
          "output_type": "display_data",
          "data": {
            "image/png": "[encoded data removed]",
            "text/plain": [
              "<Figure size 432x288 with 1 Axes>"
            ]
          },
          "metadata": {
            "needs_background": "light"
          }
        }
      ]
    },
    {
      "cell_type": "code",
      "metadata": {
        "colab": {
          "base_uri": "https://localhost:8080/",
          "height": 355
        },
        "id": "VaIZH7LS-7-u",
        "outputId": "7036eda1-201a-4a20-db09-014cc8f09227"
      },
      "source": [
        "# Feature Selection\n",
        "sns.heatmap(x.corr(),annot = True) "
      ],
      "execution_count": 40,
      "outputs": [
        {
          "output_type": "execute_result",
          "data": {
            "text/plain": [
              "<matplotlib.axes._subplots.AxesSubplot at 0x7fc42b705cd0>"
            ]
          },
          "metadata": {},
          "execution_count": 40
        },
        {
          "output_type": "display_data",
          "data": {
            "image/png": "[encoded data removed]",
            "text/plain": [
              "<Figure size 432x288 with 2 Axes>"
            ]
          },
          "metadata": {
            "needs_background": "light"
          }
        }
      ]
    },
    {
      "cell_type": "code",
      "metadata": {
        "colab": {
          "base_uri": "https://localhost:8080/"
        },
        "id": "o0lg9Q4rKruW",
        "outputId": "6fd9a8fb-d506-4ecb-9697-1d6030cf4a13"
      },
      "source": [
        "# Scale the values\n",
        "from sklearn.preprocessing import StandardScaler\n",
        "#its Z- score scaler, x = x(i)-x_/sigma\n",
        "scaler = StandardScaler()\n",
        "X_scaled = scaler.fit_transform(x)\n",
        "X_scaled\n",
        "# all values are now b/w (-1 and 1) \n",
        "# mean is 0 and Standard Deviation is now 1 "
      ],
      "execution_count": 44,
      "outputs": [
        {
          "output_type": "execute_result",
          "data": {
            "text/plain": [
              "array([[-9.00681170e-01,  1.01900435e+00, -1.34022653e+00,\n",
              "        -1.31544430e+00],\n",
              "       [-1.14301691e+00, -1.31979479e-01, -1.34022653e+00,\n",
              "        -1.31544430e+00],\n",
              "       [-1.38535265e+00,  3.28414053e-01, -1.39706395e+00,\n",
              "        -1.31544430e+00],\n",
              "       [-1.50652052e+00,  9.82172869e-02, -1.28338910e+00,\n",
              "        -1.31544430e+00],\n",
              "       [-1.02184904e+00,  1.24920112e+00, -1.34022653e+00,\n",
              "        -1.31544430e+00],\n",
              "       [-5.37177559e-01,  1.93979142e+00, -1.16971425e+00,\n",
              "        -1.05217993e+00],\n",
              "       [-1.50652052e+00,  7.88807586e-01, -1.34022653e+00,\n",
              "        -1.18381211e+00],\n",
              "       [-1.02184904e+00,  7.88807586e-01, -1.28338910e+00,\n",
              "        -1.31544430e+00],\n",
              "       [-1.74885626e+00, -3.62176246e-01, -1.34022653e+00,\n",
              "        -1.31544430e+00],\n",
              "       [-1.14301691e+00,  9.82172869e-02, -1.28338910e+00,\n",
              "        -1.44707648e+00],\n",
              "       [-5.37177559e-01,  1.47939788e+00, -1.28338910e+00,\n",
              "        -1.31544430e+00],\n",
              "       [-1.26418478e+00,  7.88807586e-01, -1.22655167e+00,\n",
              "        -1.31544430e+00],\n",
              "       [-1.26418478e+00, -1.31979479e-01, -1.34022653e+00,\n",
              "        -1.44707648e+00],\n",
              "       [-1.87002413e+00, -1.31979479e-01, -1.51073881e+00,\n",
              "        -1.44707648e+00],\n",
              "       [-5.25060772e-02,  2.16998818e+00, -1.45390138e+00,\n",
              "        -1.31544430e+00],\n",
              "       [-1.73673948e-01,  3.09077525e+00, -1.28338910e+00,\n",
              "        -1.05217993e+00],\n",
              "       [-5.37177559e-01,  1.93979142e+00, -1.39706395e+00,\n",
              "        -1.05217993e+00],\n",
              "       [-9.00681170e-01,  1.01900435e+00, -1.34022653e+00,\n",
              "        -1.18381211e+00],\n",
              "       [-1.73673948e-01,  1.70959465e+00, -1.16971425e+00,\n",
              "        -1.18381211e+00],\n",
              "       [-9.00681170e-01,  1.70959465e+00, -1.28338910e+00,\n",
              "        -1.18381211e+00],\n",
              "       [-5.37177559e-01,  7.88807586e-01, -1.16971425e+00,\n",
              "        -1.31544430e+00],\n",
              "       [-9.00681170e-01,  1.47939788e+00, -1.28338910e+00,\n",
              "        -1.05217993e+00],\n",
              "       [-1.50652052e+00,  1.24920112e+00, -1.56757623e+00,\n",
              "        -1.31544430e+00],\n",
              "       [-9.00681170e-01,  5.58610819e-01, -1.16971425e+00,\n",
              "        -9.20547742e-01],\n",
              "       [-1.26418478e+00,  7.88807586e-01, -1.05603939e+00,\n",
              "        -1.31544430e+00],\n",
              "       [-1.02184904e+00, -1.31979479e-01, -1.22655167e+00,\n",
              "        -1.31544430e+00],\n",
              "       [-1.02184904e+00,  7.88807586e-01, -1.22655167e+00,\n",
              "        -1.05217993e+00],\n",
              "       [-7.79513300e-01,  1.01900435e+00, -1.28338910e+00,\n",
              "        -1.31544430e+00],\n",
              "       [-7.79513300e-01,  7.88807586e-01, -1.34022653e+00,\n",
              "        -1.31544430e+00],\n",
              "       [-1.38535265e+00,  3.28414053e-01, -1.22655167e+00,\n",
              "        -1.31544430e+00],\n",
              "       [-1.26418478e+00,  9.82172869e-02, -1.22655167e+00,\n",
              "        -1.31544430e+00],\n",
              "       [-5.37177559e-01,  7.88807586e-01, -1.28338910e+00,\n",
              "        -1.05217993e+00],\n",
              "       [-7.79513300e-01,  2.40018495e+00, -1.28338910e+00,\n",
              "        -1.44707648e+00],\n",
              "       [-4.16009689e-01,  2.63038172e+00, -1.34022653e+00,\n",
              "        -1.31544430e+00],\n",
              "       [-1.14301691e+00,  9.82172869e-02, -1.28338910e+00,\n",
              "        -1.31544430e+00],\n",
              "       [-1.02184904e+00,  3.28414053e-01, -1.45390138e+00,\n",
              "        -1.31544430e+00],\n",
              "       [-4.16009689e-01,  1.01900435e+00, -1.39706395e+00,\n",
              "        -1.31544430e+00],\n",
              "       [-1.14301691e+00,  1.24920112e+00, -1.34022653e+00,\n",
              "        -1.44707648e+00],\n",
              "       [-1.74885626e+00, -1.31979479e-01, -1.39706395e+00,\n",
              "        -1.31544430e+00],\n",
              "       [-9.00681170e-01,  7.88807586e-01, -1.28338910e+00,\n",
              "        -1.31544430e+00],\n",
              "       [-1.02184904e+00,  1.01900435e+00, -1.39706395e+00,\n",
              "        -1.18381211e+00],\n",
              "       [-1.62768839e+00, -1.74335684e+00, -1.39706395e+00,\n",
              "        -1.18381211e+00],\n",
              "       [-1.74885626e+00,  3.28414053e-01, -1.39706395e+00,\n",
              "        -1.31544430e+00],\n",
              "       [-1.02184904e+00,  1.01900435e+00, -1.22655167e+00,\n",
              "        -7.88915558e-01],\n",
              "       [-9.00681170e-01,  1.70959465e+00, -1.05603939e+00,\n",
              "        -1.05217993e+00],\n",
              "       [-1.26418478e+00, -1.31979479e-01, -1.34022653e+00,\n",
              "        -1.18381211e+00],\n",
              "       [-9.00681170e-01,  1.70959465e+00, -1.22655167e+00,\n",
              "        -1.31544430e+00],\n",
              "       [-1.50652052e+00,  3.28414053e-01, -1.34022653e+00,\n",
              "        -1.31544430e+00],\n",
              "       [-6.58345429e-01,  1.47939788e+00, -1.28338910e+00,\n",
              "        -1.31544430e+00],\n",
              "       [-1.02184904e+00,  5.58610819e-01, -1.34022653e+00,\n",
              "        -1.31544430e+00],\n",
              "       [ 1.40150837e+00,  3.28414053e-01,  5.35408562e-01,\n",
              "         2.64141916e-01],\n",
              "       [ 6.74501145e-01,  3.28414053e-01,  4.21733708e-01,\n",
              "         3.95774101e-01],\n",
              "       [ 1.28034050e+00,  9.82172869e-02,  6.49083415e-01,\n",
              "         3.95774101e-01],\n",
              "       [-4.16009689e-01, -1.74335684e+00,  1.37546573e-01,\n",
              "         1.32509732e-01],\n",
              "       [ 7.95669016e-01, -5.92373012e-01,  4.78571135e-01,\n",
              "         3.95774101e-01],\n",
              "       [-1.73673948e-01, -5.92373012e-01,  4.21733708e-01,\n",
              "         1.32509732e-01],\n",
              "       [ 5.53333275e-01,  5.58610819e-01,  5.35408562e-01,\n",
              "         5.27406285e-01],\n",
              "       [-1.14301691e+00, -1.51316008e+00, -2.60315415e-01,\n",
              "        -2.62386821e-01],\n",
              "       [ 9.16836886e-01, -3.62176246e-01,  4.78571135e-01,\n",
              "         1.32509732e-01],\n",
              "       [-7.79513300e-01, -8.22569778e-01,  8.07091462e-02,\n",
              "         2.64141916e-01],\n",
              "       [-1.02184904e+00, -2.43394714e+00, -1.46640561e-01,\n",
              "        -2.62386821e-01],\n",
              "       [ 6.86617933e-02, -1.31979479e-01,  2.51221427e-01,\n",
              "         3.95774101e-01],\n",
              "       [ 1.89829664e-01, -1.97355361e+00,  1.37546573e-01,\n",
              "        -2.62386821e-01],\n",
              "       [ 3.10997534e-01, -3.62176246e-01,  5.35408562e-01,\n",
              "         2.64141916e-01],\n",
              "       [-2.94841818e-01, -3.62176246e-01, -8.98031345e-02,\n",
              "         1.32509732e-01],\n",
              "       [ 1.03800476e+00,  9.82172869e-02,  3.64896281e-01,\n",
              "         2.64141916e-01],\n",
              "       [-2.94841818e-01, -1.31979479e-01,  4.21733708e-01,\n",
              "         3.95774101e-01],\n",
              "       [-5.25060772e-02, -8.22569778e-01,  1.94384000e-01,\n",
              "        -2.62386821e-01],\n",
              "       [ 4.32165405e-01, -1.97355361e+00,  4.21733708e-01,\n",
              "         3.95774101e-01],\n",
              "       [-2.94841818e-01, -1.28296331e+00,  8.07091462e-02,\n",
              "        -1.30754636e-01],\n",
              "       [ 6.86617933e-02,  3.28414053e-01,  5.92245988e-01,\n",
              "         7.90670654e-01],\n",
              "       [ 3.10997534e-01, -5.92373012e-01,  1.37546573e-01,\n",
              "         1.32509732e-01],\n",
              "       [ 5.53333275e-01, -1.28296331e+00,  6.49083415e-01,\n",
              "         3.95774101e-01],\n",
              "       [ 3.10997534e-01, -5.92373012e-01,  5.35408562e-01,\n",
              "         8.77547895e-04],\n",
              "       [ 6.74501145e-01, -3.62176246e-01,  3.08058854e-01,\n",
              "         1.32509732e-01],\n",
              "       [ 9.16836886e-01, -1.31979479e-01,  3.64896281e-01,\n",
              "         2.64141916e-01],\n",
              "       [ 1.15917263e+00, -5.92373012e-01,  5.92245988e-01,\n",
              "         2.64141916e-01],\n",
              "       [ 1.03800476e+00, -1.31979479e-01,  7.05920842e-01,\n",
              "         6.59038469e-01],\n",
              "       [ 1.89829664e-01, -3.62176246e-01,  4.21733708e-01,\n",
              "         3.95774101e-01],\n",
              "       [-1.73673948e-01, -1.05276654e+00, -1.46640561e-01,\n",
              "        -2.62386821e-01],\n",
              "       [-4.16009689e-01, -1.51316008e+00,  2.38717193e-02,\n",
              "        -1.30754636e-01],\n",
              "       [-4.16009689e-01, -1.51316008e+00, -3.29657076e-02,\n",
              "        -2.62386821e-01],\n",
              "       [-5.25060772e-02, -8.22569778e-01,  8.07091462e-02,\n",
              "         8.77547895e-04],\n",
              "       [ 1.89829664e-01, -8.22569778e-01,  7.62758269e-01,\n",
              "         5.27406285e-01],\n",
              "       [-5.37177559e-01, -1.31979479e-01,  4.21733708e-01,\n",
              "         3.95774101e-01],\n",
              "       [ 1.89829664e-01,  7.88807586e-01,  4.21733708e-01,\n",
              "         5.27406285e-01],\n",
              "       [ 1.03800476e+00,  9.82172869e-02,  5.35408562e-01,\n",
              "         3.95774101e-01],\n",
              "       [ 5.53333275e-01, -1.74335684e+00,  3.64896281e-01,\n",
              "         1.32509732e-01],\n",
              "       [-2.94841818e-01, -1.31979479e-01,  1.94384000e-01,\n",
              "         1.32509732e-01],\n",
              "       [-4.16009689e-01, -1.28296331e+00,  1.37546573e-01,\n",
              "         1.32509732e-01],\n",
              "       [-4.16009689e-01, -1.05276654e+00,  3.64896281e-01,\n",
              "         8.77547895e-04],\n",
              "       [ 3.10997534e-01, -1.31979479e-01,  4.78571135e-01,\n",
              "         2.64141916e-01],\n",
              "       [-5.25060772e-02, -1.05276654e+00,  1.37546573e-01,\n",
              "         8.77547895e-04],\n",
              "       [-1.02184904e+00, -1.74335684e+00, -2.60315415e-01,\n",
              "        -2.62386821e-01],\n",
              "       [-2.94841818e-01, -8.22569778e-01,  2.51221427e-01,\n",
              "         1.32509732e-01],\n",
              "       [-1.73673948e-01, -1.31979479e-01,  2.51221427e-01,\n",
              "         8.77547895e-04],\n",
              "       [-1.73673948e-01, -3.62176246e-01,  2.51221427e-01,\n",
              "         1.32509732e-01],\n",
              "       [ 4.32165405e-01, -3.62176246e-01,  3.08058854e-01,\n",
              "         1.32509732e-01],\n",
              "       [-9.00681170e-01, -1.28296331e+00, -4.30827696e-01,\n",
              "        -1.30754636e-01],\n",
              "       [-1.73673948e-01, -5.92373012e-01,  1.94384000e-01,\n",
              "         1.32509732e-01],\n",
              "       [ 5.53333275e-01,  5.58610819e-01,  1.27429511e+00,\n",
              "         1.71209594e+00],\n",
              "       [-5.25060772e-02, -8.22569778e-01,  7.62758269e-01,\n",
              "         9.22302838e-01],\n",
              "       [ 1.52267624e+00, -1.31979479e-01,  1.21745768e+00,\n",
              "         1.18556721e+00],\n",
              "       [ 5.53333275e-01, -3.62176246e-01,  1.04694540e+00,\n",
              "         7.90670654e-01],\n",
              "       [ 7.95669016e-01, -1.31979479e-01,  1.16062026e+00,\n",
              "         1.31719939e+00],\n",
              "       [ 2.12851559e+00, -1.31979479e-01,  1.61531967e+00,\n",
              "         1.18556721e+00],\n",
              "       [-1.14301691e+00, -1.28296331e+00,  4.21733708e-01,\n",
              "         6.59038469e-01],\n",
              "       [ 1.76501198e+00, -3.62176246e-01,  1.44480739e+00,\n",
              "         7.90670654e-01],\n",
              "       [ 1.03800476e+00, -1.28296331e+00,  1.16062026e+00,\n",
              "         7.90670654e-01],\n",
              "       [ 1.64384411e+00,  1.24920112e+00,  1.33113254e+00,\n",
              "         1.71209594e+00],\n",
              "       [ 7.95669016e-01,  3.28414053e-01,  7.62758269e-01,\n",
              "         1.05393502e+00],\n",
              "       [ 6.74501145e-01, -8.22569778e-01,  8.76433123e-01,\n",
              "         9.22302838e-01],\n",
              "       [ 1.15917263e+00, -1.31979479e-01,  9.90107977e-01,\n",
              "         1.18556721e+00],\n",
              "       [-1.73673948e-01, -1.28296331e+00,  7.05920842e-01,\n",
              "         1.05393502e+00],\n",
              "       [-5.25060772e-02, -5.92373012e-01,  7.62758269e-01,\n",
              "         1.58046376e+00],\n",
              "       [ 6.74501145e-01,  3.28414053e-01,  8.76433123e-01,\n",
              "         1.44883158e+00],\n",
              "       [ 7.95669016e-01, -1.31979479e-01,  9.90107977e-01,\n",
              "         7.90670654e-01],\n",
              "       [ 2.24968346e+00,  1.70959465e+00,  1.67215710e+00,\n",
              "         1.31719939e+00],\n",
              "       [ 2.24968346e+00, -1.05276654e+00,  1.78583195e+00,\n",
              "         1.44883158e+00],\n",
              "       [ 1.89829664e-01, -1.97355361e+00,  7.05920842e-01,\n",
              "         3.95774101e-01],\n",
              "       [ 1.28034050e+00,  3.28414053e-01,  1.10378283e+00,\n",
              "         1.44883158e+00],\n",
              "       [-2.94841818e-01, -5.92373012e-01,  6.49083415e-01,\n",
              "         1.05393502e+00],\n",
              "       [ 2.24968346e+00, -5.92373012e-01,  1.67215710e+00,\n",
              "         1.05393502e+00],\n",
              "       [ 5.53333275e-01, -8.22569778e-01,  6.49083415e-01,\n",
              "         7.90670654e-01],\n",
              "       [ 1.03800476e+00,  5.58610819e-01,  1.10378283e+00,\n",
              "         1.18556721e+00],\n",
              "       [ 1.64384411e+00,  3.28414053e-01,  1.27429511e+00,\n",
              "         7.90670654e-01],\n",
              "       [ 4.32165405e-01, -5.92373012e-01,  5.92245988e-01,\n",
              "         7.90670654e-01],\n",
              "       [ 3.10997534e-01, -1.31979479e-01,  6.49083415e-01,\n",
              "         7.90670654e-01],\n",
              "       [ 6.74501145e-01, -5.92373012e-01,  1.04694540e+00,\n",
              "         1.18556721e+00],\n",
              "       [ 1.64384411e+00, -1.31979479e-01,  1.16062026e+00,\n",
              "         5.27406285e-01],\n",
              "       [ 1.88617985e+00, -5.92373012e-01,  1.33113254e+00,\n",
              "         9.22302838e-01],\n",
              "       [ 2.49201920e+00,  1.70959465e+00,  1.50164482e+00,\n",
              "         1.05393502e+00],\n",
              "       [ 6.74501145e-01, -5.92373012e-01,  1.04694540e+00,\n",
              "         1.31719939e+00],\n",
              "       [ 5.53333275e-01, -5.92373012e-01,  7.62758269e-01,\n",
              "         3.95774101e-01],\n",
              "       [ 3.10997534e-01, -1.05276654e+00,  1.04694540e+00,\n",
              "         2.64141916e-01],\n",
              "       [ 2.24968346e+00, -1.31979479e-01,  1.33113254e+00,\n",
              "         1.44883158e+00],\n",
              "       [ 5.53333275e-01,  7.88807586e-01,  1.04694540e+00,\n",
              "         1.58046376e+00],\n",
              "       [ 6.74501145e-01,  9.82172869e-02,  9.90107977e-01,\n",
              "         7.90670654e-01],\n",
              "       [ 1.89829664e-01, -1.31979479e-01,  5.92245988e-01,\n",
              "         7.90670654e-01],\n",
              "       [ 1.28034050e+00,  9.82172869e-02,  9.33270550e-01,\n",
              "         1.18556721e+00],\n",
              "       [ 1.03800476e+00,  9.82172869e-02,  1.04694540e+00,\n",
              "         1.58046376e+00],\n",
              "       [ 1.28034050e+00,  9.82172869e-02,  7.62758269e-01,\n",
              "         1.44883158e+00],\n",
              "       [-5.25060772e-02, -8.22569778e-01,  7.62758269e-01,\n",
              "         9.22302838e-01],\n",
              "       [ 1.15917263e+00,  3.28414053e-01,  1.21745768e+00,\n",
              "         1.44883158e+00],\n",
              "       [ 1.03800476e+00,  5.58610819e-01,  1.10378283e+00,\n",
              "         1.71209594e+00],\n",
              "       [ 1.03800476e+00, -1.31979479e-01,  8.19595696e-01,\n",
              "         1.44883158e+00],\n",
              "       [ 5.53333275e-01, -1.28296331e+00,  7.05920842e-01,\n",
              "         9.22302838e-01],\n",
              "       [ 7.95669016e-01, -1.31979479e-01,  8.19595696e-01,\n",
              "         1.05393502e+00],\n",
              "       [ 4.32165405e-01,  7.88807586e-01,  9.33270550e-01,\n",
              "         1.44883158e+00],\n",
              "       [ 6.86617933e-02, -1.31979479e-01,  7.62758269e-01,\n",
              "         7.90670654e-01]])"
            ]
          },
          "metadata": {},
          "execution_count": 44
        }
      ]
    },
    {
      "cell_type": "code",
      "metadata": {
        "colab": {
          "base_uri": "https://localhost:8080/"
        },
        "id": "dXT_RnQfLkLw",
        "outputId": "e520aa64-c168-47ce-a67a-b80836431f5a"
      },
      "source": [
        "# Compute the covariance Matrix \n",
        "import numpy as np\n",
        "#requirement offinding the covariance matrix that the features which are now in columns , should now be in the rows \n",
        "features = X_scaled.T\n",
        "print(\"Transposed : \")\n",
        "print(features)\n",
        "print(\"Covariance Matrix using np.cov() : \")\n",
        "covariance_matrix = np.cov(features)\n",
        "print(covariance_matrix)"
      ],
      "execution_count": 47,
      "outputs": [
        {
          "output_type": "stream",
          "name": "stdout",
          "text": [
            "Transposed : \n",
            "[[-9.00681170e-01 -1.14301691e+00 -1.38535265e+00 -1.50652052e+00\n",
            "  -1.02184904e+00 -5.37177559e-01 -1.50652052e+00 -1.02184904e+00\n",
            "  -1.74885626e+00 -1.14301691e+00 -5.37177559e-01 -1.26418478e+00\n",
            "  -1.26418478e+00 -1.87002413e+00 -5.25060772e-02 -1.73673948e-01\n",
            "  -5.37177559e-01 -9.00681170e-01 -1.73673948e-01 -9.00681170e-01\n",
            "  -5.37177559e-01 -9.00681170e-01 -1.50652052e+00 -9.00681170e-01\n",
            "  -1.26418478e+00 -1.02184904e+00 -1.02184904e+00 -7.79513300e-01\n",
            "  -7.79513300e-01 -1.38535265e+00 -1.26418478e+00 -5.37177559e-01\n",
            "  -7.79513300e-01 -4.16009689e-01 -1.14301691e+00 -1.02184904e+00\n",
            "  -4.16009689e-01 -1.14301691e+00 -1.74885626e+00 -9.00681170e-01\n",
            "  -1.02184904e+00 -1.62768839e+00 -1.74885626e+00 -1.02184904e+00\n",
            "  -9.00681170e-01 -1.26418478e+00 -9.00681170e-01 -1.50652052e+00\n",
            "  -6.58345429e-01 -1.02184904e+00  1.40150837e+00  6.74501145e-01\n",
            "   1.28034050e+00 -4.16009689e-01  7.95669016e-01 -1.73673948e-01\n",
            "   5.53333275e-01 -1.14301691e+00  9.16836886e-01 -7.79513300e-01\n",
            "  -1.02184904e+00  6.86617933e-02  1.89829664e-01  3.10997534e-01\n",
            "  -2.94841818e-01  1.03800476e+00 -2.94841818e-01 -5.25060772e-02\n",
            "   4.32165405e-01 -2.94841818e-01  6.86617933e-02  3.10997534e-01\n",
            "   5.53333275e-01  3.10997534e-01  6.74501145e-01  9.16836886e-01\n",
            "   1.15917263e+00  1.03800476e+00  1.89829664e-01 -1.73673948e-01\n",
            "  -4.16009689e-01 -4.16009689e-01 -5.25060772e-02  1.89829664e-01\n",
            "  -5.37177559e-01  1.89829664e-01  1.03800476e+00  5.53333275e-01\n",
            "  -2.94841818e-01 -4.16009689e-01 -4.16009689e-01  3.10997534e-01\n",
            "  -5.25060772e-02 -1.02184904e+00 -2.94841818e-01 -1.73673948e-01\n",
            "  -1.73673948e-01  4.32165405e-01 -9.00681170e-01 -1.73673948e-01\n",
            "   5.53333275e-01 -5.25060772e-02  1.52267624e+00  5.53333275e-01\n",
            "   7.95669016e-01  2.12851559e+00 -1.14301691e+00  1.76501198e+00\n",
            "   1.03800476e+00  1.64384411e+00  7.95669016e-01  6.74501145e-01\n",
            "   1.15917263e+00 -1.73673948e-01 -5.25060772e-02  6.74501145e-01\n",
            "   7.95669016e-01  2.24968346e+00  2.24968346e+00  1.89829664e-01\n",
            "   1.28034050e+00 -2.94841818e-01  2.24968346e+00  5.53333275e-01\n",
            "   1.03800476e+00  1.64384411e+00  4.32165405e-01  3.10997534e-01\n",
            "   6.74501145e-01  1.64384411e+00  1.88617985e+00  2.49201920e+00\n",
            "   6.74501145e-01  5.53333275e-01  3.10997534e-01  2.24968346e+00\n",
            "   5.53333275e-01  6.74501145e-01  1.89829664e-01  1.28034050e+00\n",
            "   1.03800476e+00  1.28034050e+00 -5.25060772e-02  1.15917263e+00\n",
            "   1.03800476e+00  1.03800476e+00  5.53333275e-01  7.95669016e-01\n",
            "   4.32165405e-01  6.86617933e-02]\n",
            " [ 1.01900435e+00 -1.31979479e-01  3.28414053e-01  9.82172869e-02\n",
            "   1.24920112e+00  1.93979142e+00  7.88807586e-01  7.88807586e-01\n",
            "  -3.62176246e-01  9.82172869e-02  1.47939788e+00  7.88807586e-01\n",
            "  -1.31979479e-01 -1.31979479e-01  2.16998818e+00  3.09077525e+00\n",
            "   1.93979142e+00  1.01900435e+00  1.70959465e+00  1.70959465e+00\n",
            "   7.88807586e-01  1.47939788e+00  1.24920112e+00  5.58610819e-01\n",
            "   7.88807586e-01 -1.31979479e-01  7.88807586e-01  1.01900435e+00\n",
            "   7.88807586e-01  3.28414053e-01  9.82172869e-02  7.88807586e-01\n",
            "   2.40018495e+00  2.63038172e+00  9.82172869e-02  3.28414053e-01\n",
            "   1.01900435e+00  1.24920112e+00 -1.31979479e-01  7.88807586e-01\n",
            "   1.01900435e+00 -1.74335684e+00  3.28414053e-01  1.01900435e+00\n",
            "   1.70959465e+00 -1.31979479e-01  1.70959465e+00  3.28414053e-01\n",
            "   1.47939788e+00  5.58610819e-01  3.28414053e-01  3.28414053e-01\n",
            "   9.82172869e-02 -1.74335684e+00 -5.92373012e-01 -5.92373012e-01\n",
            "   5.58610819e-01 -1.51316008e+00 -3.62176246e-01 -8.22569778e-01\n",
            "  -2.43394714e+00 -1.31979479e-01 -1.97355361e+00 -3.62176246e-01\n",
            "  -3.62176246e-01  9.82172869e-02 -1.31979479e-01 -8.22569778e-01\n",
            "  -1.97355361e+00 -1.28296331e+00  3.28414053e-01 -5.92373012e-01\n",
            "  -1.28296331e+00 -5.92373012e-01 -3.62176246e-01 -1.31979479e-01\n",
            "  -5.92373012e-01 -1.31979479e-01 -3.62176246e-01 -1.05276654e+00\n",
            "  -1.51316008e+00 -1.51316008e+00 -8.22569778e-01 -8.22569778e-01\n",
            "  -1.31979479e-01  7.88807586e-01  9.82172869e-02 -1.74335684e+00\n",
            "  -1.31979479e-01 -1.28296331e+00 -1.05276654e+00 -1.31979479e-01\n",
            "  -1.05276654e+00 -1.74335684e+00 -8.22569778e-01 -1.31979479e-01\n",
            "  -3.62176246e-01 -3.62176246e-01 -1.28296331e+00 -5.92373012e-01\n",
            "   5.58610819e-01 -8.22569778e-01 -1.31979479e-01 -3.62176246e-01\n",
            "  -1.31979479e-01 -1.31979479e-01 -1.28296331e+00 -3.62176246e-01\n",
            "  -1.28296331e+00  1.24920112e+00  3.28414053e-01 -8.22569778e-01\n",
            "  -1.31979479e-01 -1.28296331e+00 -5.92373012e-01  3.28414053e-01\n",
            "  -1.31979479e-01  1.70959465e+00 -1.05276654e+00 -1.97355361e+00\n",
            "   3.28414053e-01 -5.92373012e-01 -5.92373012e-01 -8.22569778e-01\n",
            "   5.58610819e-01  3.28414053e-01 -5.92373012e-01 -1.31979479e-01\n",
            "  -5.92373012e-01 -1.31979479e-01 -5.92373012e-01  1.70959465e+00\n",
            "  -5.92373012e-01 -5.92373012e-01 -1.05276654e+00 -1.31979479e-01\n",
            "   7.88807586e-01  9.82172869e-02 -1.31979479e-01  9.82172869e-02\n",
            "   9.82172869e-02  9.82172869e-02 -8.22569778e-01  3.28414053e-01\n",
            "   5.58610819e-01 -1.31979479e-01 -1.28296331e+00 -1.31979479e-01\n",
            "   7.88807586e-01 -1.31979479e-01]\n",
            " [-1.34022653e+00 -1.34022653e+00 -1.39706395e+00 -1.28338910e+00\n",
            "  -1.34022653e+00 -1.16971425e+00 -1.34022653e+00 -1.28338910e+00\n",
            "  -1.34022653e+00 -1.28338910e+00 -1.28338910e+00 -1.22655167e+00\n",
            "  -1.34022653e+00 -1.51073881e+00 -1.45390138e+00 -1.28338910e+00\n",
            "  -1.39706395e+00 -1.34022653e+00 -1.16971425e+00 -1.28338910e+00\n",
            "  -1.16971425e+00 -1.28338910e+00 -1.56757623e+00 -1.16971425e+00\n",
            "  -1.05603939e+00 -1.22655167e+00 -1.22655167e+00 -1.28338910e+00\n",
            "  -1.34022653e+00 -1.22655167e+00 -1.22655167e+00 -1.28338910e+00\n",
            "  -1.28338910e+00 -1.34022653e+00 -1.28338910e+00 -1.45390138e+00\n",
            "  -1.39706395e+00 -1.34022653e+00 -1.39706395e+00 -1.28338910e+00\n",
            "  -1.39706395e+00 -1.39706395e+00 -1.39706395e+00 -1.22655167e+00\n",
            "  -1.05603939e+00 -1.34022653e+00 -1.22655167e+00 -1.34022653e+00\n",
            "  -1.28338910e+00 -1.34022653e+00  5.35408562e-01  4.21733708e-01\n",
            "   6.49083415e-01  1.37546573e-01  4.78571135e-01  4.21733708e-01\n",
            "   5.35408562e-01 -2.60315415e-01  4.78571135e-01  8.07091462e-02\n",
            "  -1.46640561e-01  2.51221427e-01  1.37546573e-01  5.35408562e-01\n",
            "  -8.98031345e-02  3.64896281e-01  4.21733708e-01  1.94384000e-01\n",
            "   4.21733708e-01  8.07091462e-02  5.92245988e-01  1.37546573e-01\n",
            "   6.49083415e-01  5.35408562e-01  3.08058854e-01  3.64896281e-01\n",
            "   5.92245988e-01  7.05920842e-01  4.21733708e-01 -1.46640561e-01\n",
            "   2.38717193e-02 -3.29657076e-02  8.07091462e-02  7.62758269e-01\n",
            "   4.21733708e-01  4.21733708e-01  5.35408562e-01  3.64896281e-01\n",
            "   1.94384000e-01  1.37546573e-01  3.64896281e-01  4.78571135e-01\n",
            "   1.37546573e-01 -2.60315415e-01  2.51221427e-01  2.51221427e-01\n",
            "   2.51221427e-01  3.08058854e-01 -4.30827696e-01  1.94384000e-01\n",
            "   1.27429511e+00  7.62758269e-01  1.21745768e+00  1.04694540e+00\n",
            "   1.16062026e+00  1.61531967e+00  4.21733708e-01  1.44480739e+00\n",
            "   1.16062026e+00  1.33113254e+00  7.62758269e-01  8.76433123e-01\n",
            "   9.90107977e-01  7.05920842e-01  7.62758269e-01  8.76433123e-01\n",
            "   9.90107977e-01  1.67215710e+00  1.78583195e+00  7.05920842e-01\n",
            "   1.10378283e+00  6.49083415e-01  1.67215710e+00  6.49083415e-01\n",
            "   1.10378283e+00  1.27429511e+00  5.92245988e-01  6.49083415e-01\n",
            "   1.04694540e+00  1.16062026e+00  1.33113254e+00  1.50164482e+00\n",
            "   1.04694540e+00  7.62758269e-01  1.04694540e+00  1.33113254e+00\n",
            "   1.04694540e+00  9.90107977e-01  5.92245988e-01  9.33270550e-01\n",
            "   1.04694540e+00  7.62758269e-01  7.62758269e-01  1.21745768e+00\n",
            "   1.10378283e+00  8.19595696e-01  7.05920842e-01  8.19595696e-01\n",
            "   9.33270550e-01  7.62758269e-01]\n",
            " [-1.31544430e+00 -1.31544430e+00 -1.31544430e+00 -1.31544430e+00\n",
            "  -1.31544430e+00 -1.05217993e+00 -1.18381211e+00 -1.31544430e+00\n",
            "  -1.31544430e+00 -1.44707648e+00 -1.31544430e+00 -1.31544430e+00\n",
            "  -1.44707648e+00 -1.44707648e+00 -1.31544430e+00 -1.05217993e+00\n",
            "  -1.05217993e+00 -1.18381211e+00 -1.18381211e+00 -1.18381211e+00\n",
            "  -1.31544430e+00 -1.05217993e+00 -1.31544430e+00 -9.20547742e-01\n",
            "  -1.31544430e+00 -1.31544430e+00 -1.05217993e+00 -1.31544430e+00\n",
            "  -1.31544430e+00 -1.31544430e+00 -1.31544430e+00 -1.05217993e+00\n",
            "  -1.44707648e+00 -1.31544430e+00 -1.31544430e+00 -1.31544430e+00\n",
            "  -1.31544430e+00 -1.44707648e+00 -1.31544430e+00 -1.31544430e+00\n",
            "  -1.18381211e+00 -1.18381211e+00 -1.31544430e+00 -7.88915558e-01\n",
            "  -1.05217993e+00 -1.18381211e+00 -1.31544430e+00 -1.31544430e+00\n",
            "  -1.31544430e+00 -1.31544430e+00  2.64141916e-01  3.95774101e-01\n",
            "   3.95774101e-01  1.32509732e-01  3.95774101e-01  1.32509732e-01\n",
            "   5.27406285e-01 -2.62386821e-01  1.32509732e-01  2.64141916e-01\n",
            "  -2.62386821e-01  3.95774101e-01 -2.62386821e-01  2.64141916e-01\n",
            "   1.32509732e-01  2.64141916e-01  3.95774101e-01 -2.62386821e-01\n",
            "   3.95774101e-01 -1.30754636e-01  7.90670654e-01  1.32509732e-01\n",
            "   3.95774101e-01  8.77547895e-04  1.32509732e-01  2.64141916e-01\n",
            "   2.64141916e-01  6.59038469e-01  3.95774101e-01 -2.62386821e-01\n",
            "  -1.30754636e-01 -2.62386821e-01  8.77547895e-04  5.27406285e-01\n",
            "   3.95774101e-01  5.27406285e-01  3.95774101e-01  1.32509732e-01\n",
            "   1.32509732e-01  1.32509732e-01  8.77547895e-04  2.64141916e-01\n",
            "   8.77547895e-04 -2.62386821e-01  1.32509732e-01  8.77547895e-04\n",
            "   1.32509732e-01  1.32509732e-01 -1.30754636e-01  1.32509732e-01\n",
            "   1.71209594e+00  9.22302838e-01  1.18556721e+00  7.90670654e-01\n",
            "   1.31719939e+00  1.18556721e+00  6.59038469e-01  7.90670654e-01\n",
            "   7.90670654e-01  1.71209594e+00  1.05393502e+00  9.22302838e-01\n",
            "   1.18556721e+00  1.05393502e+00  1.58046376e+00  1.44883158e+00\n",
            "   7.90670654e-01  1.31719939e+00  1.44883158e+00  3.95774101e-01\n",
            "   1.44883158e+00  1.05393502e+00  1.05393502e+00  7.90670654e-01\n",
            "   1.18556721e+00  7.90670654e-01  7.90670654e-01  7.90670654e-01\n",
            "   1.18556721e+00  5.27406285e-01  9.22302838e-01  1.05393502e+00\n",
            "   1.31719939e+00  3.95774101e-01  2.64141916e-01  1.44883158e+00\n",
            "   1.58046376e+00  7.90670654e-01  7.90670654e-01  1.18556721e+00\n",
            "   1.58046376e+00  1.44883158e+00  9.22302838e-01  1.44883158e+00\n",
            "   1.71209594e+00  1.44883158e+00  9.22302838e-01  1.05393502e+00\n",
            "   1.44883158e+00  7.90670654e-01]]\n",
            "Covariance Matrix using np.cov() : \n",
            "[[ 1.00671141 -0.11835884  0.87760447  0.82343066]\n",
            " [-0.11835884  1.00671141 -0.43131554 -0.36858315]\n",
            " [ 0.87760447 -0.43131554  1.00671141  0.96932762]\n",
            " [ 0.82343066 -0.36858315  0.96932762  1.00671141]]\n"
          ]
        }
      ]
    },
    {
      "cell_type": "code",
      "metadata": {
        "colab": {
          "base_uri": "https://localhost:8080/"
        },
        "id": "MTj91lAPMqAR",
        "outputId": "655fcf0e-4607-49d7-eba7-c1297538f311"
      },
      "source": [
        "values , vectors = np.linalg.eig(covariance_matrix)\n",
        "print(values.shape)\n",
        "print(vectors.shape)\n",
        "print(values)\n",
        "print(vectors)\n",
        "#values = magnitude of variance in each 4 directions \n",
        "# vectors = direction in 4 by 4 space "
      ],
      "execution_count": 52,
      "outputs": [
        {
          "output_type": "stream",
          "name": "stdout",
          "text": [
            "(4,)\n",
            "(4, 4)\n",
            "[2.93808505 0.9201649  0.14774182 0.02085386]\n",
            "[[ 0.52106591 -0.37741762 -0.71956635  0.26128628]\n",
            " [-0.26934744 -0.92329566  0.24438178 -0.12350962]\n",
            " [ 0.5804131  -0.02449161  0.14212637 -0.80144925]\n",
            " [ 0.56485654 -0.06694199  0.63427274  0.52359713]]\n"
          ]
        }
      ]
    },
    {
      "cell_type": "code",
      "metadata": {
        "colab": {
          "base_uri": "https://localhost:8080/"
        },
        "id": "2cUVp9TXNmBl",
        "outputId": "50b28cae-53ad-4498-8b8e-4f14c88330e2"
      },
      "source": [
        "percentage_variance = []\n",
        "for i in range(len(values)):\n",
        "  percentage_variance.append(values[i]/np.sum(values))\n",
        "print(percentage_variance)  \n",
        "\n",
        "# as we can see the 1st eigen value is contributing to the 72.9% dispersion, foloowed by 2nd eigen value giving 22.8% dispersion ans so on..."
      ],
      "execution_count": 53,
      "outputs": [
        {
          "output_type": "stream",
          "name": "stdout",
          "text": [
            "[0.7296244541329987, 0.2285076178670177, 0.03668921889282871, 0.005178709107154867]\n"
          ]
        }
      ]
    },
    {
      "cell_type": "code",
      "metadata": {
        "id": "Dnu4pziePFsK"
      },
      "source": [
        "# so we can use just 2 eigen values"
      ],
      "execution_count": 54,
      "outputs": []
    },
    {
      "cell_type": "code",
      "metadata": {
        "colab": {
          "base_uri": "https://localhost:8080/",
          "height": 424
        },
        "id": "TkVWBkBYQiIh",
        "outputId": "f4f606a7-0b1b-45a5-d95c-19efbfe1a108"
      },
      "source": [
        "projected_1 = X_scaled.dot(vectors.T[0])\n",
        "projected_2 = X_scaled.dot(vectors.T[1])\n",
        "res = pd.DataFrame(data = projected_1, columns = ['PC1'])\n",
        "res['PC2'] = projected_2\n",
        "res['Species'] = y\n",
        "res"
      ],
      "execution_count": 59,
      "outputs": [
        {
          "output_type": "execute_result",
          "data": {
            "text/html": [
              "<div>\n",
              "<style scoped>\n",
              "    .dataframe tbody tr th:only-of-type {\n",
              "        vertical-align: middle;\n",
              "    }\n",
              "\n",
              "    .dataframe tbody tr th {\n",
              "        vertical-align: top;\n",
              "    }\n",
              "\n",
              "    .dataframe thead th {\n",
              "        text-align: right;\n",
              "    }\n",
              "</style>\n",
              "<table border=\"1\" class=\"dataframe\">\n",
              "  <thead>\n",
              "    <tr style=\"text-align: right;\">\n",
              "      <th></th>\n",
              "      <th>PC1</th>\n",
              "      <th>PC2</th>\n",
              "      <th>Species</th>\n",
              "    </tr>\n",
              "  </thead>\n",
              "  <tbody>\n",
              "    <tr>\n",
              "      <th>0</th>\n",
              "      <td>-2.264703</td>\n",
              "      <td>-0.480027</td>\n",
              "      <td>0</td>\n",
              "    </tr>\n",
              "    <tr>\n",
              "      <th>1</th>\n",
              "      <td>-2.080961</td>\n",
              "      <td>0.674134</td>\n",
              "      <td>0</td>\n",
              "    </tr>\n",
              "    <tr>\n",
              "      <th>2</th>\n",
              "      <td>-2.364229</td>\n",
              "      <td>0.341908</td>\n",
              "      <td>0</td>\n",
              "    </tr>\n",
              "    <tr>\n",
              "      <th>3</th>\n",
              "      <td>-2.299384</td>\n",
              "      <td>0.597395</td>\n",
              "      <td>0</td>\n",
              "    </tr>\n",
              "    <tr>\n",
              "      <th>4</th>\n",
              "      <td>-2.389842</td>\n",
              "      <td>-0.646835</td>\n",
              "      <td>0</td>\n",
              "    </tr>\n",
              "    <tr>\n",
              "      <th>...</th>\n",
              "      <td>...</td>\n",
              "      <td>...</td>\n",
              "      <td>...</td>\n",
              "    </tr>\n",
              "    <tr>\n",
              "      <th>145</th>\n",
              "      <td>1.870503</td>\n",
              "      <td>-0.386966</td>\n",
              "      <td>2</td>\n",
              "    </tr>\n",
              "    <tr>\n",
              "      <th>146</th>\n",
              "      <td>1.564580</td>\n",
              "      <td>0.896687</td>\n",
              "      <td>2</td>\n",
              "    </tr>\n",
              "    <tr>\n",
              "      <th>147</th>\n",
              "      <td>1.521170</td>\n",
              "      <td>-0.269069</td>\n",
              "      <td>2</td>\n",
              "    </tr>\n",
              "    <tr>\n",
              "      <th>148</th>\n",
              "      <td>1.372788</td>\n",
              "      <td>-1.011254</td>\n",
              "      <td>2</td>\n",
              "    </tr>\n",
              "    <tr>\n",
              "      <th>149</th>\n",
              "      <td>0.960656</td>\n",
              "      <td>0.024332</td>\n",
              "      <td>2</td>\n",
              "    </tr>\n",
              "  </tbody>\n",
              "</table>\n",
              "<p>150 rows × 3 columns</p>\n",
              "</div>"
            ],
            "text/plain": [
              "          PC1       PC2  Species\n",
              "0   -2.264703 -0.480027        0\n",
              "1   -2.080961  0.674134        0\n",
              "2   -2.364229  0.341908        0\n",
              "3   -2.299384  0.597395        0\n",
              "4   -2.389842 -0.646835        0\n",
              "..        ...       ...      ...\n",
              "145  1.870503 -0.386966        2\n",
              "146  1.564580  0.896687        2\n",
              "147  1.521170 -0.269069        2\n",
              "148  1.372788 -1.011254        2\n",
              "149  0.960656  0.024332        2\n",
              "\n",
              "[150 rows x 3 columns]"
            ]
          },
          "metadata": {},
          "execution_count": 59
        }
      ]
    },
    {
      "cell_type": "markdown",
      "metadata": {
        "id": "s8HkslDwWILI"
      },
      "source": [
        "PCA Library"
      ]
    },
    {
      "cell_type": "code",
      "metadata": {
        "colab": {
          "base_uri": "https://localhost:8080/"
        },
        "id": "vEpN7JLJWKYj",
        "outputId": "c62f6209-e1df-4dcb-a2c1-7653ddcea5ab"
      },
      "source": [
        "# from sklearn.decomposition import KernelPCA\n",
        "# kpca = KernelPCA(n_components = 2, kernel = 'rbf')\n",
        "# x = kpca.fit_transform(x)\n",
        "# y = kpca.fit_transform(y)\n",
        "# x\n",
        "# y"
      ],
      "execution_count": 68,
      "outputs": [
        {
          "output_type": "execute_result",
          "data": {
            "text/plain": [
              "array([[ 7.00601299e-01, -2.93143677e-01],\n",
              "       [ 7.00601299e-01, -2.93143677e-01],\n",
              "       [ 7.00601299e-01, -2.93143677e-01],\n",
              "       [ 7.00601299e-01, -2.93143677e-01],\n",
              "       [ 7.00601299e-01, -2.93143677e-01],\n",
              "       [ 7.00601299e-01, -2.93143677e-01],\n",
              "       [ 7.00601299e-01, -2.93143677e-01],\n",
              "       [ 7.00601299e-01, -2.93143677e-01],\n",
              "       [ 7.00601299e-01, -2.93143677e-01],\n",
              "       [ 7.00601299e-01, -2.93143677e-01],\n",
              "       [ 7.00601299e-01, -2.93143677e-01],\n",
              "       [ 7.00601299e-01, -2.93143677e-01],\n",
              "       [ 7.00601299e-01, -2.93143677e-01],\n",
              "       [ 7.00601299e-01, -2.93143677e-01],\n",
              "       [ 7.00601299e-01, -2.93143677e-01],\n",
              "       [ 7.00601299e-01, -2.93143677e-01],\n",
              "       [ 7.00601299e-01, -2.93143677e-01],\n",
              "       [ 7.00601299e-01, -2.93143677e-01],\n",
              "       [ 7.00601299e-01, -2.93143677e-01],\n",
              "       [ 7.00601299e-01, -2.93143677e-01],\n",
              "       [ 7.00601299e-01, -2.93143677e-01],\n",
              "       [ 7.00601299e-01, -2.93143677e-01],\n",
              "       [ 7.00601299e-01, -2.93143677e-01],\n",
              "       [ 7.00601299e-01, -2.93143677e-01],\n",
              "       [ 7.00601299e-01, -2.93143677e-01],\n",
              "       [ 7.00601299e-01, -2.93143677e-01],\n",
              "       [ 7.00601299e-01, -2.93143677e-01],\n",
              "       [ 7.00601299e-01, -2.93143677e-01],\n",
              "       [ 7.00601299e-01, -2.93143677e-01],\n",
              "       [ 7.00601299e-01, -2.93143677e-01],\n",
              "       [ 7.00601299e-01, -2.93143677e-01],\n",
              "       [ 7.00601299e-01, -2.93143677e-01],\n",
              "       [ 7.00601299e-01, -2.93143677e-01],\n",
              "       [ 7.00601299e-01, -2.93143677e-01],\n",
              "       [ 7.00601299e-01, -2.93143677e-01],\n",
              "       [ 7.00601299e-01, -2.93143677e-01],\n",
              "       [ 7.00601299e-01, -2.93143677e-01],\n",
              "       [ 7.00601299e-01, -2.93143677e-01],\n",
              "       [ 7.00601299e-01, -2.93143677e-01],\n",
              "       [ 7.00601299e-01, -2.93143677e-01],\n",
              "       [ 7.00601299e-01, -2.93143677e-01],\n",
              "       [ 7.00601299e-01, -2.93143677e-01],\n",
              "       [ 7.00601299e-01, -2.93143677e-01],\n",
              "       [ 7.00601299e-01, -2.93143677e-01],\n",
              "       [ 7.00601299e-01, -2.93143677e-01],\n",
              "       [ 7.00601299e-01, -2.93143677e-01],\n",
              "       [ 7.00601299e-01, -2.93143677e-01],\n",
              "       [ 7.00601299e-01, -2.93143677e-01],\n",
              "       [ 7.00601299e-01, -2.93143677e-01],\n",
              "       [ 7.00601299e-01, -2.93143677e-01],\n",
              "       [-1.17388163e-15,  5.86287354e-01],\n",
              "       [-1.17388163e-15,  5.86287354e-01],\n",
              "       [-1.17388163e-15,  5.86287354e-01],\n",
              "       [-1.17388163e-15,  5.86287354e-01],\n",
              "       [-1.12526765e-15,  5.86287354e-01],\n",
              "       [-1.12526765e-15,  5.86287354e-01],\n",
              "       [-1.12526765e-15,  5.86287354e-01],\n",
              "       [-1.12526765e-15,  5.86287354e-01],\n",
              "       [-1.17388163e-15,  5.86287354e-01],\n",
              "       [-1.12526765e-15,  5.86287354e-01],\n",
              "       [-1.17388163e-15,  5.86287354e-01],\n",
              "       [-1.12526765e-15,  5.86287354e-01],\n",
              "       [-1.12526765e-15,  5.86287354e-01],\n",
              "       [-1.12526765e-15,  5.86287354e-01],\n",
              "       [-1.12526765e-15,  5.86287354e-01],\n",
              "       [-1.12526765e-15,  5.86287354e-01],\n",
              "       [-1.12526765e-15,  5.86287354e-01],\n",
              "       [-1.12526765e-15,  5.86287354e-01],\n",
              "       [-1.12526765e-15,  5.86287354e-01],\n",
              "       [-1.12526765e-15,  5.86287354e-01],\n",
              "       [-1.12526765e-15,  5.86287354e-01],\n",
              "       [-1.12526765e-15,  5.86287354e-01],\n",
              "       [-1.12526765e-15,  5.86287354e-01],\n",
              "       [-1.12526765e-15,  5.86287354e-01],\n",
              "       [-1.12526765e-15,  5.86287354e-01],\n",
              "       [-1.12526765e-15,  5.86287354e-01],\n",
              "       [-1.12526765e-15,  5.86287354e-01],\n",
              "       [-1.12526765e-15,  5.86287354e-01],\n",
              "       [-1.12526765e-15,  5.86287354e-01],\n",
              "       [-1.12526765e-15,  5.86287354e-01],\n",
              "       [-1.12526765e-15,  5.86287354e-01],\n",
              "       [-1.12526765e-15,  5.86287354e-01],\n",
              "       [-1.12526765e-15,  5.86287354e-01],\n",
              "       [-1.12526765e-15,  5.86287354e-01],\n",
              "       [-1.12526765e-15,  5.86287354e-01],\n",
              "       [-1.12526765e-15,  5.86287354e-01],\n",
              "       [-1.12526765e-15,  5.86287354e-01],\n",
              "       [-1.12526765e-15,  5.86287354e-01],\n",
              "       [-1.12526765e-15,  5.86287354e-01],\n",
              "       [-1.12526765e-15,  5.86287354e-01],\n",
              "       [-1.12526765e-15,  5.86287354e-01],\n",
              "       [-1.12526765e-15,  5.86287354e-01],\n",
              "       [-1.12526765e-15,  5.86287354e-01],\n",
              "       [-1.17388163e-15,  5.86287354e-01],\n",
              "       [-1.17388163e-15,  5.86287354e-01],\n",
              "       [-1.17388163e-15,  5.86287354e-01],\n",
              "       [-1.17388163e-15,  5.86287354e-01],\n",
              "       [-1.17388163e-15,  5.86287354e-01],\n",
              "       [-1.17388163e-15,  5.86287354e-01],\n",
              "       [-1.17388163e-15,  5.86287354e-01],\n",
              "       [-7.00601299e-01, -2.93143677e-01],\n",
              "       [-7.00601299e-01, -2.93143677e-01],\n",
              "       [-7.00601299e-01, -2.93143677e-01],\n",
              "       [-7.00601299e-01, -2.93143677e-01],\n",
              "       [-7.00601299e-01, -2.93143677e-01],\n",
              "       [-7.00601299e-01, -2.93143677e-01],\n",
              "       [-7.00601299e-01, -2.93143677e-01],\n",
              "       [-7.00601299e-01, -2.93143677e-01],\n",
              "       [-7.00601299e-01, -2.93143677e-01],\n",
              "       [-7.00601299e-01, -2.93143677e-01],\n",
              "       [-7.00601299e-01, -2.93143677e-01],\n",
              "       [-7.00601299e-01, -2.93143677e-01],\n",
              "       [-7.00601299e-01, -2.93143677e-01],\n",
              "       [-7.00601299e-01, -2.93143677e-01],\n",
              "       [-7.00601299e-01, -2.93143677e-01],\n",
              "       [-7.00601299e-01, -2.93143677e-01],\n",
              "       [-7.00601299e-01, -2.93143677e-01],\n",
              "       [-7.00601299e-01, -2.93143677e-01],\n",
              "       [-7.00601299e-01, -2.93143677e-01],\n",
              "       [-7.00601299e-01, -2.93143677e-01],\n",
              "       [-7.00601299e-01, -2.93143677e-01],\n",
              "       [-7.00601299e-01, -2.93143677e-01],\n",
              "       [-7.00601299e-01, -2.93143677e-01],\n",
              "       [-7.00601299e-01, -2.93143677e-01],\n",
              "       [-7.00601299e-01, -2.93143677e-01],\n",
              "       [-7.00601299e-01, -2.93143677e-01],\n",
              "       [-7.00601299e-01, -2.93143677e-01],\n",
              "       [-7.00601299e-01, -2.93143677e-01],\n",
              "       [-7.00601299e-01, -2.93143677e-01],\n",
              "       [-7.00601299e-01, -2.93143677e-01],\n",
              "       [-7.00601299e-01, -2.93143677e-01],\n",
              "       [-7.00601299e-01, -2.93143677e-01],\n",
              "       [-7.00601299e-01, -2.93143677e-01],\n",
              "       [-7.00601299e-01, -2.93143677e-01],\n",
              "       [-7.00601299e-01, -2.93143677e-01],\n",
              "       [-7.00601299e-01, -2.93143677e-01],\n",
              "       [-7.00601299e-01, -2.93143677e-01],\n",
              "       [-7.00601299e-01, -2.93143677e-01],\n",
              "       [-7.00601299e-01, -2.93143677e-01],\n",
              "       [-7.00601299e-01, -2.93143677e-01],\n",
              "       [-7.00601299e-01, -2.93143677e-01],\n",
              "       [-7.00601299e-01, -2.93143677e-01],\n",
              "       [-7.00601299e-01, -2.93143677e-01],\n",
              "       [-7.00601299e-01, -2.93143677e-01],\n",
              "       [-7.00601299e-01, -2.93143677e-01],\n",
              "       [-7.00601299e-01, -2.93143677e-01],\n",
              "       [-7.00601299e-01, -2.93143677e-01],\n",
              "       [-7.00601299e-01, -2.93143677e-01],\n",
              "       [-7.00601299e-01, -2.93143677e-01],\n",
              "       [-7.00601299e-01, -2.93143677e-01]])"
            ]
          },
          "metadata": {},
          "execution_count": 68
        }
      ]
    },
    {
      "cell_type": "code",
      "metadata": {
        "colab": {
          "base_uri": "https://localhost:8080/",
          "height": 286
        },
        "id": "vLAxGIaYT8IU",
        "outputId": "457e6395-60d8-40f0-d958-d3b52f8303cf"
      },
      "source": [
        "X = res[['PC1', 'PC2']]\n",
        "sns.heatmap(X.corr(), annot=True)"
      ],
      "execution_count": 65,
      "outputs": [
        {
          "output_type": "execute_result",
          "data": {
            "text/plain": [
              "<matplotlib.axes._subplots.AxesSubplot at 0x7fc42b23c310>"
            ]
          },
          "metadata": {},
          "execution_count": 65
        },
        {
          "output_type": "display_data",
          "data": {
            "image/png": "[encoded data removed]",
            "text/plain": [
              "<Figure size 432x288 with 2 Axes>"
            ]
          },
          "metadata": {
            "needs_background": "light"
          }
        }
      ]
    },
    {
      "cell_type": "code",
      "metadata": {
        "colab": {
          "base_uri": "https://localhost:8080/",
          "height": 296
        },
        "id": "NR5EgbYnUf9c",
        "outputId": "a4574588-6da9-4b8d-cc3a-4af6744c5bf2"
      },
      "source": [
        "res.plot(kind = \"scatter\", x = \"PC1\", y = \"PC2\")"
      ],
      "execution_count": 67,
      "outputs": [
        {
          "output_type": "execute_result",
          "data": {
            "text/plain": [
              "<matplotlib.axes._subplots.AxesSubplot at 0x7fc42b24b290>"
            ]
          },
          "metadata": {},
          "execution_count": 67
        },
        {
          "output_type": "display_data",
          "data": {
            "image/png": "[encoded data removed]",
            "text/plain": [
              "<Figure size 432x288 with 1 Axes>"
            ]
          },
          "metadata": {
            "needs_background": "light"
          }
        }
      ]
    }
  ]
}